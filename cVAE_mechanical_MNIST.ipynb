{
  "cells": [
    {
      "cell_type": "markdown",
      "metadata": {
        "id": "view-in-github",
        "colab_type": "text"
      },
      "source": [
        "<a href=\"https://colab.research.google.com/github/sedaoturak/cVAE_Mechanical_MNIST/blob/main/cVAE_mechanical_MNIST.ipynb\" target=\"_parent\"><img src=\"https://colab.research.google.com/assets/colab-badge.svg\" alt=\"Open In Colab\"/></a>"
      ]
    },
    {
      "cell_type": "code",
      "execution_count": 1,
      "metadata": {
        "id": "cqEBnmthpuuy"
      },
      "outputs": [],
      "source": [
        "import torch\n",
        "import torch.nn as nn\n",
        "import torch.nn.functional as F\n",
        "import torch.backends.cudnn as cudnn\n",
        "import torchvision\n",
        "from torchvision import datasets, models, transforms\n",
        "from torch.autograd.variable import Variable\n",
        "import matplotlib.pyplot as plt\n",
        "import numpy as np\n",
        "import random\n",
        "import tqdm.notebook"
      ]
    },
    {
      "cell_type": "code",
      "execution_count": 2,
      "metadata": {
        "colab": {
          "base_uri": "https://localhost:8080/"
        },
        "id": "Yxy5_3FIp7ul",
        "outputId": "95e6bdf5-4363-4d46-fedf-36218e2460a8"
      },
      "outputs": [
        {
          "output_type": "stream",
          "name": "stdout",
          "text": [
            "Drive already mounted at /content/drive; to attempt to forcibly remount, call drive.mount(\"/content/drive\", force_remount=True).\n"
          ]
        }
      ],
      "source": [
        "from google.colab import drive \n",
        "drive.mount('/content/drive')\n",
        "\n",
        "# with open('/content/drive/MyDrive/toy_datasets/Mechanical_MNIST/mnist_img_train.txt', 'r') as f: \n",
        "#   g = np.loadtxt(f)\n",
        "# with open('/content/drive/MyDrive/toy_datasets/Mechanical_MNIST/summary_psi_train_all.txt', 'r') as f:\n",
        "#   e = np.loadtxt(f)\n",
        "\n",
        "with open('/content/drive/MyDrive/toy_datasets/Mechanical_MNIST/Case1_input_patterns_64_x_64.txt', 'r') as f: \n",
        "  g = np.loadtxt(f)\n",
        "with open('/content/drive/MyDrive/toy_datasets/Mechanical_MNIST/Case1_strain_energy.txt', 'r') as f:\n",
        "  e = np.loadtxt(f)"
      ]
    },
    {
      "cell_type": "code",
      "execution_count": 4,
      "metadata": {
        "colab": {
          "base_uri": "https://localhost:8080/",
          "height": 268
        },
        "id": "LEu85ax7rCAL",
        "outputId": "f3a2f3e1-4142-455a-be36-1ec2cc42aca4"
      },
      "outputs": [
        {
          "output_type": "display_data",
          "data": {
            "text/plain": [
              "<Figure size 432x288 with 1 Axes>"
            ],
            "image/png": "[encoded data removed]"
          },
          "metadata": {
            "needs_background": "light"
          }
        }
      ],
      "source": [
        "import matplotlib.pyplot as plt\n",
        "import numpy as np\n",
        "\n",
        "img = g.reshape(37523,64,64)\n",
        "plt.imshow(img[9,:,:], interpolation='nearest', cmap='binary')\n",
        "plt.show()"
      ]
    },
    {
      "cell_type": "code",
      "execution_count": 5,
      "metadata": {
        "colab": {
          "base_uri": "https://localhost:8080/"
        },
        "id": "Mk8dKz_UrSBI",
        "outputId": "7f20b94e-e9d0-4159-8d68-56ed509429a2"
      },
      "outputs": [
        {
          "output_type": "execute_result",
          "data": {
            "text/plain": [
              "((37523, 64, 64), (37523,))"
            ]
          },
          "metadata": {},
          "execution_count": 5
        }
      ],
      "source": [
        "from sklearn.preprocessing import MinMaxScaler\n",
        "\n",
        "scaler = MinMaxScaler(feature_range=(0,1))\n",
        "e_scaled = scaler.fit_transform(e[:,6].reshape(-1, 1))\n",
        "e_scaled.shape, e_scaled.ravel().shape\n",
        "\n",
        "images = g.reshape((37523,64,64))\n",
        "energies = e_scaled.ravel()\n",
        "\n",
        "images.shape, energies.shape"
      ]
    },
    {
      "cell_type": "code",
      "execution_count": 6,
      "metadata": {
        "colab": {
          "base_uri": "https://localhost:8080/"
        },
        "id": "GcNjRg3Oq67x",
        "outputId": "bf9732a0-29f2-4fc7-bbe8-802de879a310"
      },
      "outputs": [
        {
          "output_type": "stream",
          "name": "stdout",
          "text": [
            "(37523, 64, 64)\n",
            "(37523, 64, 64, 1)\n",
            "(37523, 1, 64, 64)\n"
          ]
        }
      ],
      "source": [
        "from torch.utils.data import Dataset\n",
        "from torchvision import datasets\n",
        "from torchvision.transforms import ToTensor\n",
        "from torch.utils.data import random_split\n",
        "from torch.utils.data import DataLoader\n",
        "\n",
        "class CustomDataset(Dataset):\n",
        "  def __init__(self, imgs, labels, transform):\n",
        "    self.labels = labels\n",
        "    self.imgs = imgs\n",
        "    self.transform = transform\n",
        "\n",
        "  def __len__(self):\n",
        "    return len(self.imgs)\n",
        "\n",
        "  def __getitem__(self, index):\n",
        "    x = self.imgs[index]\n",
        "    x = self.transform(x)\n",
        "    y = self.labels[index]\n",
        "    return x, y\n",
        "\n",
        "b, w, h, = [*images.shape]\n",
        "print(images.shape)\n",
        "images_wb = np.repeat(images[..., np.newaxis], 1, -1)\n",
        "print(images_wb.shape)\n",
        "images_wb = images_wb.reshape(b, 1, w, h)\n",
        "print(images_wb.shape)"
      ]
    },
    {
      "cell_type": "code",
      "execution_count": 7,
      "metadata": {
        "id": "zyK4mnBSq7YT"
      },
      "outputs": [],
      "source": [
        "transform = transforms.Compose([\n",
        "      # transforms.Resize((32, 32)),\n",
        "      #transforms.RandomRotation(degrees= (0, 180)),\n",
        "      # transforms.RandomRotation(180),\n",
        "      # transforms.RandomRotation(90),\n",
        "     \n",
        "      # transforms.RandomHorizontalFlip(0.5),\n",
        "      # transforms.RandomVerticalFlip(0.5),\n",
        "      #transforms.ColorJitter(brightness=(0.5,1.5),contrast=(1),saturation=(0.5,1.5),hue=(-0.1,0.1)),\n",
        "      # transforms.ToTensor(),\n",
        "      #transforms.Normalize([0.2732, 0.2728, 0.2713], [0.1937, 0.1943, 0.1933]),\n",
        "        ])\n",
        "\n",
        "# Datasets\n",
        "normalized_images = images_wb # use \"/255\" for rgb images, but for white-black images\n",
        "data = torch.tensor(normalized_images, dtype=torch.float32)\n",
        "target = torch.tensor(energies, dtype=torch.float32).reshape(-1,1)   #target\n",
        "\n",
        "if __name__ == \"__main__\":\n",
        "  dataset = CustomDataset(data, target, transform)"
      ]
    },
    {
      "cell_type": "code",
      "execution_count": 8,
      "metadata": {
        "id": "mvHrjW6grYTj"
      },
      "outputs": [],
      "source": [
        "train_set_size = int(len(dataset)*0.8)\n",
        "val_set_size = len(dataset) - train_set_size\n",
        "\n",
        "trainset, valset  = random_split(dataset, [train_set_size, val_set_size])\n",
        "batch_size = 64\n",
        "trainloader = DataLoader(trainset, batch_size=batch_size, shuffle=True, num_workers= 2)\n",
        "valloader = DataLoader(valset, batch_size=batch_size, shuffle=True, num_workers= 2)"
      ]
    },
    {
      "cell_type": "code",
      "execution_count": null,
      "metadata": {
        "id": "7O1I0WcErfHr"
      },
      "outputs": [],
      "source": [
        "trainset.dataset.imgs.shape"
      ]
    },
    {
      "cell_type": "code",
      "execution_count": 43,
      "metadata": {
        "id": "3WnE4UARr8QO"
      },
      "outputs": [],
      "source": [
        "import torch\n",
        "import torch.nn as nn\n",
        "import torch.nn.functional as F\n",
        "kernel_size = 4 # (4, 4) kernel\n",
        "init_channels = 32 # initial number of filters\n",
        "image_channels = 1 # MNIST images are grayscale\n",
        "latent_dim = 2 # latent dimension for sampling\n",
        "\n",
        "# define a Conv VAE\n",
        "class ConvVAE(nn.Module):\n",
        "    def __init__(self):\n",
        "        super(ConvVAE, self).__init__()\n",
        " \n",
        "        # encoder\n",
        "        self.enc1 = nn.Conv2d(\n",
        "            in_channels=image_channels, out_channels=init_channels, kernel_size=kernel_size, \n",
        "            stride=2, padding=1\n",
        "        )\n",
        "        self.enc2 = nn.Conv2d(\n",
        "            in_channels=init_channels, out_channels=init_channels*4, kernel_size=kernel_size, \n",
        "            stride=2, padding=1\n",
        "        )\n",
        "        self.enc3 = nn.Conv2d(\n",
        "            in_channels=init_channels*4, out_channels=init_channels*8, kernel_size=kernel_size, \n",
        "            stride=2, padding=1\n",
        "        )\n",
        "        self.enc4 = nn.Conv2d(\n",
        "            in_channels=init_channels*8, out_channels=64, kernel_size=kernel_size, \n",
        "            stride=2, padding=0\n",
        "        )\n",
        "        # fully connected layers for learning representations\n",
        "        self.fc1 = nn.Linear(64, 128)\n",
        "        self.fc_mu = nn.Linear(128, latent_dim)\n",
        "        self.fc_log_var = nn.Linear(128, latent_dim)\n",
        "        self.fc2 = nn.Linear(latent_dim, 64)\n",
        "        # decoder \n",
        "        self.dec1 = nn.ConvTranspose2d(\n",
        "            in_channels=64, out_channels=init_channels*8, kernel_size=kernel_size, \n",
        "            stride=1, padding=0\n",
        "        )\n",
        "        self.dec2 = nn.ConvTranspose2d(\n",
        "            in_channels=init_channels*8, out_channels=init_channels*8, kernel_size=kernel_size, \n",
        "            stride=2, padding=1\n",
        "        )\n",
        "        self.dec3 = nn.ConvTranspose2d(\n",
        "            in_channels=init_channels*8, out_channels=init_channels*4, kernel_size=kernel_size, \n",
        "            stride=2, padding=1\n",
        "        )\n",
        "        self.dec4 = nn.ConvTranspose2d(\n",
        "            in_channels=init_channels*4, out_channels=init_channels*2, kernel_size=kernel_size, \n",
        "            stride=2, padding=1\n",
        "        )\n",
        "        self.dec5 = nn.ConvTranspose2d(\n",
        "            in_channels=init_channels*2, out_channels=image_channels, kernel_size=kernel_size, \n",
        "            stride=2, padding=1\n",
        "        )\n",
        "    def reparameterize(self, mu, log_var):\n",
        "        \"\"\"\n",
        "        :param mu: mean from the encoder's latent space\n",
        "        :param log_var: log variance from the encoder's latent space\n",
        "        \"\"\"\n",
        "        std = torch.exp(0.5*log_var) # standard deviation\n",
        "        eps = torch.randn_like(std) # `randn_like` as we need the same size\n",
        "        sample = mu + (eps * std) # sampling\n",
        "        return sample\n",
        " \n",
        "    def forward(self, x):\n",
        "        # encoding\n",
        "        # print(f'x.size {(x.size())}')\n",
        "        x = F.relu(self.enc1(x))\n",
        "        # print(f'x.size {(x.size())}')\n",
        "        x = F.relu(self.enc2(x))\n",
        "        # print(f'x.size {(x.size())}')\n",
        "        x = F.relu(self.enc3(x))\n",
        "        # print(f'x.size {(x.size())}')\n",
        "        x = F.relu(self.enc4(x))\n",
        "        # print(f'x.size {(x.size())}')\n",
        "        batch, _, _, _ = x.shape\n",
        "        x = F.adaptive_avg_pool2d(x, 1).reshape(batch, -1)\n",
        "        # print(f'x.size after adaptive pooling {(x.size())}')\n",
        "        hidden = self.fc1(x)\n",
        "        # print(f'x.size after hidden layer in encoder {(x.size())}')\n",
        "        # get `mu` and `log_var`\n",
        "        mu = self.fc_mu(hidden)\n",
        "        log_var = self.fc_log_var(hidden)\n",
        "        # get the latent vector through reparameterization\n",
        "        z = self.reparameterize(mu, log_var)\n",
        "        # print(f'z.size {(z.size())}')\n",
        "        z = self.fc2(z)\n",
        "        # print(f'z size after fc2: {z.size()}')\n",
        "        z = z.view(-1, 64, 1, 1)\n",
        "        # print(f'z size after view(-1, 64, 1, 1): {z.size()}')\n",
        " \n",
        "        # decoding\n",
        "        x = F.relu(self.dec1(z))\n",
        "        # print(f'x size after 1 transcov: {x.size()}')\n",
        "        x = F.relu(self.dec2(x))\n",
        "        # print(f'x size after 2 transcov: {x.size()}')\n",
        "        x = F.relu(self.dec3(x))\n",
        "        # print(f'x size after 3 transcov: {x.size()}')\n",
        "        x = F.relu(self.dec4(x))\n",
        "        # print(f'x size after 3 transcov: {x.size()}')\n",
        "        reconstruction = torch.sigmoid(self.dec5(x))\n",
        "        # print(f'x size after 4 transcov: {reconstruction.size()}')\n",
        "        return reconstruction, mu, log_var"
      ]
    },
    {
      "cell_type": "code",
      "execution_count": 44,
      "metadata": {
        "id": "9O3o5mI5sEnW"
      },
      "outputs": [],
      "source": [
        "import torch\n",
        "import torch.optim as optim\n",
        "import torch.nn as nn\n",
        "import torchvision.transforms as transforms\n",
        "import torchvision\n",
        "import matplotlib\n",
        "from torch.utils.data import DataLoader\n",
        "from torchvision.utils import make_grid\n",
        "\n",
        "device = torch.device('cuda' if torch.cuda.is_available() else 'cpu')\n",
        "# initialize the model\n",
        "model = ConvVAE().to(device)\n",
        "# set the learning parameters\n",
        "lr = 0.001\n",
        "epochs = 100\n",
        "batch_size = 64\n",
        "optimizer = optim.Adam(model.parameters(), lr=lr)\n",
        "criterion = torch.nn.MSELoss(reduction='mean')\n",
        "# a list to save all the reconstructed images in PyTorch grid format\n",
        "grid_images = []"
      ]
    },
    {
      "cell_type": "code",
      "source": [
        "from tqdm import tqdm\n",
        "import torch \n",
        "def final_loss(mse_loss, beta, mu, logvar):\n",
        "    \"\"\"\n",
        "    This function will add the reconstruction loss (BCELoss) and the \n",
        "    KL-Divergence.\n",
        "    KL-Divergence = 0.5 * sum(1 + log(sigma^2) - mu^2 - sigma^2)\n",
        "    :param bce_loss: recontruction loss\n",
        "    :param mu: the mean from the latent vector\n",
        "    :param logvar: log variance from the latent vector\n",
        "    \"\"\"\n",
        "    BCE = mse_loss \n",
        "    KLD = torch.mean(-0.5 * torch.sum(1 + logvar - mu ** 2 - logvar.exp(), dim = 1), dim = 0)\n",
        "    return BCE + beta*KLD\n",
        "\n",
        "def train(dataloader, dataset, beta):\n",
        "    model.train()\n",
        "    running_loss = 0.0\n",
        "    counter = 0\n",
        "    for i, (data,target) in tqdm(enumerate(dataloader)):\n",
        "        counter += 1\n",
        "        # data = data[0]\n",
        "        data = data.to(device)\n",
        "        optimizer.zero_grad()\n",
        "        reconstruction, mu, logvar = model(data)\n",
        "        # print(f'in training loop, input size: {data.shape}, rec size: {reconstruction.shape}')\n",
        "        bce_loss = criterion(reconstruction, data)\n",
        "        loss = final_loss(bce_loss, beta, mu, logvar)\n",
        "        loss.backward()\n",
        "        running_loss += loss.item()\n",
        "        optimizer.step()\n",
        "    train_loss = running_loss / counter \n",
        "    return train_loss\n",
        "\n",
        "def validate(dataloader, dataset, beta):\n",
        "    model.eval()\n",
        "    running_loss = 0.0\n",
        "    counter = 0\n",
        "    with torch.no_grad():\n",
        "        for i, (data,target) in tqdm(enumerate(dataloader)):\n",
        "            counter += 1\n",
        "            # data= data[0]\n",
        "            data = data.to(device)\n",
        "            reconstruction, mu, logvar = model(data)\n",
        "            bce_loss = criterion(reconstruction, data)\n",
        "            loss = final_loss(bce_loss, beta, mu, logvar)\n",
        "            running_loss += loss.item()\n",
        "        \n",
        "            # save the last batch input and output of every epoch\n",
        "            if i == int(len(dataset)/dataloader.batch_size) - 1:\n",
        "                recon_images = reconstruction\n",
        "    val_loss = running_loss / counter\n",
        "    return val_loss, recon_images"
      ],
      "metadata": {
        "id": "5sd7-qSlKBnn"
      },
      "execution_count": 45,
      "outputs": []
    },
    {
      "cell_type": "code",
      "execution_count": 46,
      "metadata": {
        "colab": {
          "base_uri": "https://localhost:8080/"
        },
        "id": "p7PCGpJPspGr",
        "outputId": "52d99058-d423-4fd9-94a8-a7de1f7fb953"
      },
      "outputs": [
        {
          "output_type": "stream",
          "name": "stdout",
          "text": [
            "Epoch 1 of 100\n"
          ]
        },
        {
          "output_type": "stream",
          "name": "stderr",
          "text": [
            "470it [00:12, 37.14it/s]\n",
            "118it [00:01, 91.75it/s]"
          ]
        },
        {
          "output_type": "stream",
          "name": "stdout",
          "text": [
            "Train Loss: 0.2295\n",
            "Val Loss: 0.2192\n",
            "Epoch 2 of 100\n"
          ]
        },
        {
          "output_type": "stream",
          "name": "stderr",
          "text": [
            "\n",
            "470it [00:12, 36.96it/s]\n",
            "118it [00:01, 89.38it/s]"
          ]
        },
        {
          "output_type": "stream",
          "name": "stdout",
          "text": [
            "Train Loss: 0.2140\n",
            "Val Loss: 0.2113\n",
            "Epoch 3 of 100\n"
          ]
        },
        {
          "output_type": "stream",
          "name": "stderr",
          "text": [
            "\n",
            "470it [00:12, 36.48it/s]\n",
            "118it [00:01, 91.12it/s]"
          ]
        },
        {
          "output_type": "stream",
          "name": "stdout",
          "text": [
            "Train Loss: 0.2085\n",
            "Val Loss: 0.2096\n",
            "Epoch 4 of 100\n"
          ]
        },
        {
          "output_type": "stream",
          "name": "stderr",
          "text": [
            "\n",
            "470it [00:12, 37.11it/s]\n",
            "118it [00:01, 90.51it/s]"
          ]
        },
        {
          "output_type": "stream",
          "name": "stdout",
          "text": [
            "Train Loss: 0.2048\n",
            "Val Loss: 0.2040\n",
            "Epoch 5 of 100\n"
          ]
        },
        {
          "output_type": "stream",
          "name": "stderr",
          "text": [
            "\n",
            "470it [00:13, 34.89it/s]\n",
            "118it [00:01, 91.32it/s] "
          ]
        },
        {
          "output_type": "stream",
          "name": "stdout",
          "text": [
            "Train Loss: 0.2012\n",
            "Val Loss: 0.2023\n",
            "Epoch 6 of 100\n"
          ]
        },
        {
          "output_type": "stream",
          "name": "stderr",
          "text": [
            "\n",
            "470it [00:12, 37.35it/s]\n",
            "118it [00:01, 93.14it/s] "
          ]
        },
        {
          "output_type": "stream",
          "name": "stdout",
          "text": [
            "Train Loss: 0.1990\n",
            "Val Loss: 0.2004\n",
            "Epoch 7 of 100\n"
          ]
        },
        {
          "output_type": "stream",
          "name": "stderr",
          "text": [
            "\n",
            "470it [00:12, 37.12it/s]\n",
            "118it [00:01, 91.20it/s]"
          ]
        },
        {
          "output_type": "stream",
          "name": "stdout",
          "text": [
            "Train Loss: 0.1968\n",
            "Val Loss: 0.2023\n",
            "Epoch 8 of 100\n"
          ]
        },
        {
          "output_type": "stream",
          "name": "stderr",
          "text": [
            "\n",
            "470it [00:13, 34.89it/s]\n",
            "118it [00:01, 73.94it/s]"
          ]
        },
        {
          "output_type": "stream",
          "name": "stdout",
          "text": [
            "Train Loss: 0.1959\n",
            "Val Loss: 0.1994\n",
            "Epoch 9 of 100\n"
          ]
        },
        {
          "output_type": "stream",
          "name": "stderr",
          "text": [
            "\n",
            "470it [00:12, 37.17it/s]\n",
            "118it [00:01, 91.78it/s] "
          ]
        },
        {
          "output_type": "stream",
          "name": "stdout",
          "text": [
            "Train Loss: 0.1938\n",
            "Val Loss: 0.1987\n",
            "Epoch 10 of 100\n"
          ]
        },
        {
          "output_type": "stream",
          "name": "stderr",
          "text": [
            "\n",
            "470it [00:12, 36.94it/s]\n",
            "118it [00:01, 91.05it/s]"
          ]
        },
        {
          "output_type": "stream",
          "name": "stdout",
          "text": [
            "Train Loss: 0.1922\n",
            "Val Loss: 0.1939\n",
            "Epoch 11 of 100\n"
          ]
        },
        {
          "output_type": "stream",
          "name": "stderr",
          "text": [
            "\n",
            "470it [00:12, 36.90it/s]\n",
            "118it [00:01, 90.71it/s]"
          ]
        },
        {
          "output_type": "stream",
          "name": "stdout",
          "text": [
            "Train Loss: 0.1909\n",
            "Val Loss: 0.1930\n",
            "Epoch 12 of 100\n"
          ]
        },
        {
          "output_type": "stream",
          "name": "stderr",
          "text": [
            "\n",
            "470it [00:12, 37.11it/s]\n",
            "118it [00:01, 90.55it/s]"
          ]
        },
        {
          "output_type": "stream",
          "name": "stdout",
          "text": [
            "Train Loss: 0.1894\n",
            "Val Loss: 0.1945\n",
            "Epoch 13 of 100\n"
          ]
        },
        {
          "output_type": "stream",
          "name": "stderr",
          "text": [
            "\n",
            "470it [00:12, 37.11it/s]\n",
            "118it [00:01, 91.01it/s] "
          ]
        },
        {
          "output_type": "stream",
          "name": "stdout",
          "text": [
            "Train Loss: 0.1881\n",
            "Val Loss: 0.1926\n",
            "Epoch 14 of 100\n"
          ]
        },
        {
          "output_type": "stream",
          "name": "stderr",
          "text": [
            "\n",
            "470it [00:12, 37.21it/s]\n",
            "118it [00:01, 90.66it/s] "
          ]
        },
        {
          "output_type": "stream",
          "name": "stdout",
          "text": [
            "Train Loss: 0.1869\n",
            "Val Loss: 0.1975\n",
            "Epoch 15 of 100\n"
          ]
        },
        {
          "output_type": "stream",
          "name": "stderr",
          "text": [
            "\n",
            "470it [00:12, 37.18it/s]\n",
            "118it [00:01, 91.34it/s]"
          ]
        },
        {
          "output_type": "stream",
          "name": "stdout",
          "text": [
            "Train Loss: 0.1871\n",
            "Val Loss: 0.1908\n",
            "Epoch 16 of 100\n"
          ]
        },
        {
          "output_type": "stream",
          "name": "stderr",
          "text": [
            "\n",
            "470it [00:12, 36.97it/s]\n",
            "118it [00:01, 90.40it/s]"
          ]
        },
        {
          "output_type": "stream",
          "name": "stdout",
          "text": [
            "Train Loss: 0.1847\n",
            "Val Loss: 0.1903\n",
            "Epoch 17 of 100\n"
          ]
        },
        {
          "output_type": "stream",
          "name": "stderr",
          "text": [
            "\n",
            "470it [00:12, 36.84it/s]\n",
            "118it [00:01, 91.65it/s] "
          ]
        },
        {
          "output_type": "stream",
          "name": "stdout",
          "text": [
            "Train Loss: 0.1843\n",
            "Val Loss: 0.1896\n",
            "Epoch 18 of 100\n"
          ]
        },
        {
          "output_type": "stream",
          "name": "stderr",
          "text": [
            "\n",
            "470it [00:12, 37.15it/s]\n",
            "118it [00:01, 92.17it/s]"
          ]
        },
        {
          "output_type": "stream",
          "name": "stdout",
          "text": [
            "Train Loss: 0.1831\n",
            "Val Loss: 0.1881\n",
            "Epoch 19 of 100\n"
          ]
        },
        {
          "output_type": "stream",
          "name": "stderr",
          "text": [
            "\n",
            "470it [00:12, 37.07it/s]\n",
            "118it [00:01, 90.61it/s]"
          ]
        },
        {
          "output_type": "stream",
          "name": "stdout",
          "text": [
            "Train Loss: 0.1819\n",
            "Val Loss: 0.1877\n",
            "Epoch 20 of 100\n"
          ]
        },
        {
          "output_type": "stream",
          "name": "stderr",
          "text": [
            "\n",
            "470it [00:12, 37.18it/s]\n",
            "118it [00:01, 90.93it/s]"
          ]
        },
        {
          "output_type": "stream",
          "name": "stdout",
          "text": [
            "Train Loss: 0.1810\n",
            "Val Loss: 0.1863\n",
            "Epoch 21 of 100\n"
          ]
        },
        {
          "output_type": "stream",
          "name": "stderr",
          "text": [
            "\n",
            "470it [00:12, 36.87it/s]\n",
            "118it [00:01, 91.12it/s]"
          ]
        },
        {
          "output_type": "stream",
          "name": "stdout",
          "text": [
            "Train Loss: 0.1803\n",
            "Val Loss: 0.1992\n",
            "Epoch 22 of 100\n"
          ]
        },
        {
          "output_type": "stream",
          "name": "stderr",
          "text": [
            "\n",
            "470it [00:13, 34.35it/s]\n",
            "118it [00:01, 90.95it/s]"
          ]
        },
        {
          "output_type": "stream",
          "name": "stdout",
          "text": [
            "Train Loss: 0.1826\n",
            "Val Loss: 0.1864\n",
            "Epoch 23 of 100\n"
          ]
        },
        {
          "output_type": "stream",
          "name": "stderr",
          "text": [
            "\n",
            "470it [00:12, 36.94it/s]\n",
            "118it [00:01, 89.80it/s]"
          ]
        },
        {
          "output_type": "stream",
          "name": "stdout",
          "text": [
            "Train Loss: 0.1788\n",
            "Val Loss: 0.1871\n",
            "Epoch 24 of 100\n"
          ]
        },
        {
          "output_type": "stream",
          "name": "stderr",
          "text": [
            "\n",
            "470it [00:12, 36.87it/s]\n",
            "118it [00:01, 90.44it/s]"
          ]
        },
        {
          "output_type": "stream",
          "name": "stdout",
          "text": [
            "Train Loss: 0.1788\n",
            "Val Loss: 0.1859\n",
            "Epoch 25 of 100\n"
          ]
        },
        {
          "output_type": "stream",
          "name": "stderr",
          "text": [
            "\n",
            "470it [00:12, 37.21it/s]\n",
            "118it [00:01, 91.03it/s]"
          ]
        },
        {
          "output_type": "stream",
          "name": "stdout",
          "text": [
            "Train Loss: 0.1773\n",
            "Val Loss: 0.1868\n",
            "Epoch 26 of 100\n"
          ]
        },
        {
          "output_type": "stream",
          "name": "stderr",
          "text": [
            "\n",
            "470it [00:12, 36.95it/s]\n",
            "118it [00:01, 90.00it/s]"
          ]
        },
        {
          "output_type": "stream",
          "name": "stdout",
          "text": [
            "Train Loss: 0.1761\n",
            "Val Loss: 0.1884\n",
            "Epoch 27 of 100\n"
          ]
        },
        {
          "output_type": "stream",
          "name": "stderr",
          "text": [
            "\n",
            "470it [00:12, 37.11it/s]\n",
            "118it [00:01, 92.71it/s]"
          ]
        },
        {
          "output_type": "stream",
          "name": "stdout",
          "text": [
            "Train Loss: 0.1769\n",
            "Val Loss: 0.1877\n",
            "Epoch 28 of 100\n"
          ]
        },
        {
          "output_type": "stream",
          "name": "stderr",
          "text": [
            "\n",
            "470it [00:12, 36.89it/s]\n",
            "118it [00:01, 91.50it/s] "
          ]
        },
        {
          "output_type": "stream",
          "name": "stdout",
          "text": [
            "Train Loss: 0.1750\n",
            "Val Loss: 0.1893\n",
            "Epoch 29 of 100\n"
          ]
        },
        {
          "output_type": "stream",
          "name": "stderr",
          "text": [
            "\n",
            "470it [00:12, 37.00it/s]\n",
            "118it [00:01, 90.37it/s]"
          ]
        },
        {
          "output_type": "stream",
          "name": "stdout",
          "text": [
            "Train Loss: 0.1753\n",
            "Val Loss: 0.1854\n",
            "Epoch 30 of 100\n"
          ]
        },
        {
          "output_type": "stream",
          "name": "stderr",
          "text": [
            "\n",
            "470it [00:12, 37.05it/s]\n",
            "118it [00:01, 91.09it/s]"
          ]
        },
        {
          "output_type": "stream",
          "name": "stdout",
          "text": [
            "Train Loss: 0.1742\n",
            "Val Loss: 0.1851\n",
            "Epoch 31 of 100\n"
          ]
        },
        {
          "output_type": "stream",
          "name": "stderr",
          "text": [
            "\n",
            "470it [00:12, 37.07it/s]\n",
            "118it [00:01, 92.23it/s]"
          ]
        },
        {
          "output_type": "stream",
          "name": "stdout",
          "text": [
            "Train Loss: 0.1838\n",
            "Val Loss: 0.1970\n",
            "Epoch 32 of 100\n"
          ]
        },
        {
          "output_type": "stream",
          "name": "stderr",
          "text": [
            "\n",
            "470it [00:12, 37.41it/s]\n",
            "118it [00:01, 93.27it/s] \n"
          ]
        },
        {
          "output_type": "stream",
          "name": "stdout",
          "text": [
            "Train Loss: 0.1834\n",
            "Val Loss: 0.1925\n",
            "Epoch 33 of 100\n"
          ]
        },
        {
          "output_type": "stream",
          "name": "stderr",
          "text": [
            "470it [00:12, 37.23it/s]\n",
            "118it [00:01, 91.17it/s]"
          ]
        },
        {
          "output_type": "stream",
          "name": "stdout",
          "text": [
            "Train Loss: 0.1820\n",
            "Val Loss: 0.1996\n",
            "Epoch 34 of 100\n"
          ]
        },
        {
          "output_type": "stream",
          "name": "stderr",
          "text": [
            "\n",
            "470it [00:12, 37.00it/s]\n",
            "118it [00:01, 85.71it/s]"
          ]
        },
        {
          "output_type": "stream",
          "name": "stdout",
          "text": [
            "Train Loss: 0.1839\n",
            "Val Loss: 0.1933\n",
            "Epoch 35 of 100\n"
          ]
        },
        {
          "output_type": "stream",
          "name": "stderr",
          "text": [
            "\n",
            "470it [00:13, 35.05it/s]\n",
            "118it [00:01, 91.50it/s] "
          ]
        },
        {
          "output_type": "stream",
          "name": "stdout",
          "text": [
            "Train Loss: 0.1811\n",
            "Val Loss: 0.1937\n",
            "Epoch 36 of 100\n"
          ]
        },
        {
          "output_type": "stream",
          "name": "stderr",
          "text": [
            "\n",
            "470it [00:12, 37.29it/s]\n",
            "118it [00:01, 89.14it/s]"
          ]
        },
        {
          "output_type": "stream",
          "name": "stdout",
          "text": [
            "Train Loss: 0.1801\n",
            "Val Loss: 0.1935\n",
            "Epoch 37 of 100\n"
          ]
        },
        {
          "output_type": "stream",
          "name": "stderr",
          "text": [
            "\n",
            "470it [00:12, 37.11it/s]\n",
            "118it [00:01, 90.69it/s]"
          ]
        },
        {
          "output_type": "stream",
          "name": "stdout",
          "text": [
            "Train Loss: 0.1803\n",
            "Val Loss: 0.1944\n",
            "Epoch 38 of 100\n"
          ]
        },
        {
          "output_type": "stream",
          "name": "stderr",
          "text": [
            "\n",
            "470it [00:12, 36.98it/s]\n",
            "118it [00:01, 90.32it/s]"
          ]
        },
        {
          "output_type": "stream",
          "name": "stdout",
          "text": [
            "Train Loss: 0.1797\n",
            "Val Loss: 0.1912\n",
            "Epoch 39 of 100\n"
          ]
        },
        {
          "output_type": "stream",
          "name": "stderr",
          "text": [
            "\n",
            "470it [00:12, 37.04it/s]\n",
            "118it [00:01, 91.00it/s]"
          ]
        },
        {
          "output_type": "stream",
          "name": "stdout",
          "text": [
            "Train Loss: 0.1786\n",
            "Val Loss: 0.1921\n",
            "Epoch 40 of 100\n"
          ]
        },
        {
          "output_type": "stream",
          "name": "stderr",
          "text": [
            "\n",
            "470it [00:12, 37.36it/s]\n",
            "118it [00:01, 90.63it/s]"
          ]
        },
        {
          "output_type": "stream",
          "name": "stdout",
          "text": [
            "Train Loss: 0.1779\n",
            "Val Loss: 0.1936\n",
            "Epoch 41 of 100\n"
          ]
        },
        {
          "output_type": "stream",
          "name": "stderr",
          "text": [
            "\n",
            "470it [00:12, 37.23it/s]\n",
            "118it [00:01, 92.38it/s] "
          ]
        },
        {
          "output_type": "stream",
          "name": "stdout",
          "text": [
            "Train Loss: 0.1783\n",
            "Val Loss: 0.1917\n",
            "Epoch 42 of 100\n"
          ]
        },
        {
          "output_type": "stream",
          "name": "stderr",
          "text": [
            "\n",
            "470it [00:12, 37.26it/s]\n",
            "118it [00:01, 89.08it/s]"
          ]
        },
        {
          "output_type": "stream",
          "name": "stdout",
          "text": [
            "Train Loss: 0.1774\n",
            "Val Loss: 0.1950\n",
            "Epoch 43 of 100\n"
          ]
        },
        {
          "output_type": "stream",
          "name": "stderr",
          "text": [
            "\n",
            "470it [00:12, 37.20it/s]\n",
            "118it [00:01, 90.16it/s]"
          ]
        },
        {
          "output_type": "stream",
          "name": "stdout",
          "text": [
            "Train Loss: 0.1775\n",
            "Val Loss: 0.1905\n",
            "Epoch 44 of 100\n"
          ]
        },
        {
          "output_type": "stream",
          "name": "stderr",
          "text": [
            "\n",
            "470it [00:12, 37.27it/s]\n",
            "118it [00:01, 91.13it/s] "
          ]
        },
        {
          "output_type": "stream",
          "name": "stdout",
          "text": [
            "Train Loss: 0.1774\n",
            "Val Loss: 0.1910\n",
            "Epoch 45 of 100\n"
          ]
        },
        {
          "output_type": "stream",
          "name": "stderr",
          "text": [
            "\n",
            "470it [00:12, 37.24it/s]\n",
            "118it [00:01, 89.84it/s]"
          ]
        },
        {
          "output_type": "stream",
          "name": "stdout",
          "text": [
            "Train Loss: 0.1761\n",
            "Val Loss: 0.1919\n",
            "Epoch 46 of 100\n"
          ]
        },
        {
          "output_type": "stream",
          "name": "stderr",
          "text": [
            "\n",
            "470it [00:13, 34.96it/s]\n",
            "118it [00:01, 93.31it/s] "
          ]
        },
        {
          "output_type": "stream",
          "name": "stdout",
          "text": [
            "Train Loss: 0.1761\n",
            "Val Loss: 0.1933\n",
            "Epoch 47 of 100\n"
          ]
        },
        {
          "output_type": "stream",
          "name": "stderr",
          "text": [
            "\n",
            "470it [00:12, 37.42it/s]\n",
            "118it [00:01, 90.29it/s]"
          ]
        },
        {
          "output_type": "stream",
          "name": "stdout",
          "text": [
            "Train Loss: 0.1750\n",
            "Val Loss: 0.1905\n",
            "Epoch 48 of 100\n"
          ]
        },
        {
          "output_type": "stream",
          "name": "stderr",
          "text": [
            "\n",
            "470it [00:12, 37.04it/s]\n",
            "118it [00:01, 90.73it/s]"
          ]
        },
        {
          "output_type": "stream",
          "name": "stdout",
          "text": [
            "Train Loss: 0.1747\n",
            "Val Loss: 0.1920\n",
            "Epoch 49 of 100\n"
          ]
        },
        {
          "output_type": "stream",
          "name": "stderr",
          "text": [
            "\n",
            "470it [00:12, 37.08it/s]\n",
            "118it [00:01, 90.41it/s]"
          ]
        },
        {
          "output_type": "stream",
          "name": "stdout",
          "text": [
            "Train Loss: 0.1743\n",
            "Val Loss: 0.1940\n",
            "Epoch 50 of 100\n"
          ]
        },
        {
          "output_type": "stream",
          "name": "stderr",
          "text": [
            "\n",
            "470it [00:12, 37.14it/s]\n",
            "118it [00:01, 92.57it/s] \n"
          ]
        },
        {
          "output_type": "stream",
          "name": "stdout",
          "text": [
            "Train Loss: 0.1752\n",
            "Val Loss: 0.1907\n",
            "Epoch 51 of 100\n"
          ]
        },
        {
          "output_type": "stream",
          "name": "stderr",
          "text": [
            "470it [00:12, 37.26it/s]\n",
            "118it [00:01, 89.89it/s]"
          ]
        },
        {
          "output_type": "stream",
          "name": "stdout",
          "text": [
            "Train Loss: 0.1734\n",
            "Val Loss: 0.1951\n",
            "Epoch 52 of 100\n"
          ]
        },
        {
          "output_type": "stream",
          "name": "stderr",
          "text": [
            "\n",
            "470it [00:12, 37.49it/s]\n",
            "118it [00:01, 91.67it/s] "
          ]
        },
        {
          "output_type": "stream",
          "name": "stdout",
          "text": [
            "Train Loss: 0.1744\n",
            "Val Loss: 0.1913\n",
            "Epoch 53 of 100\n"
          ]
        },
        {
          "output_type": "stream",
          "name": "stderr",
          "text": [
            "\n",
            "470it [00:12, 37.20it/s]\n",
            "118it [00:01, 92.03it/s]\n"
          ]
        },
        {
          "output_type": "stream",
          "name": "stdout",
          "text": [
            "Train Loss: 0.1729\n",
            "Val Loss: 0.1921\n",
            "Epoch 54 of 100\n"
          ]
        },
        {
          "output_type": "stream",
          "name": "stderr",
          "text": [
            "470it [00:12, 37.18it/s]\n",
            "118it [00:01, 91.05it/s]"
          ]
        },
        {
          "output_type": "stream",
          "name": "stdout",
          "text": [
            "Train Loss: 0.1724\n",
            "Val Loss: 0.1897\n",
            "Epoch 55 of 100\n"
          ]
        },
        {
          "output_type": "stream",
          "name": "stderr",
          "text": [
            "\n",
            "470it [00:12, 37.30it/s]\n",
            "118it [00:01, 90.48it/s]"
          ]
        },
        {
          "output_type": "stream",
          "name": "stdout",
          "text": [
            "Train Loss: 0.1720\n",
            "Val Loss: 0.1919\n",
            "Epoch 56 of 100\n"
          ]
        },
        {
          "output_type": "stream",
          "name": "stderr",
          "text": [
            "\n",
            "470it [00:12, 37.44it/s]\n",
            "118it [00:01, 91.70it/s] "
          ]
        },
        {
          "output_type": "stream",
          "name": "stdout",
          "text": [
            "Train Loss: 0.1719\n",
            "Val Loss: 0.1910\n",
            "Epoch 57 of 100\n"
          ]
        },
        {
          "output_type": "stream",
          "name": "stderr",
          "text": [
            "\n",
            "470it [00:12, 37.30it/s]\n",
            "118it [00:01, 91.76it/s] "
          ]
        },
        {
          "output_type": "stream",
          "name": "stdout",
          "text": [
            "Train Loss: 0.1715\n",
            "Val Loss: 0.1903\n",
            "Epoch 58 of 100\n"
          ]
        },
        {
          "output_type": "stream",
          "name": "stderr",
          "text": [
            "\n",
            "470it [00:12, 36.64it/s]\n",
            "118it [00:01, 65.65it/s]"
          ]
        },
        {
          "output_type": "stream",
          "name": "stdout",
          "text": [
            "Train Loss: 0.1711\n",
            "Val Loss: 0.1907\n",
            "Epoch 59 of 100\n"
          ]
        },
        {
          "output_type": "stream",
          "name": "stderr",
          "text": [
            "\n",
            "470it [00:13, 35.46it/s]\n",
            "118it [00:01, 89.79it/s]"
          ]
        },
        {
          "output_type": "stream",
          "name": "stdout",
          "text": [
            "Train Loss: 0.1704\n",
            "Val Loss: 0.1902\n",
            "Epoch 60 of 100\n"
          ]
        },
        {
          "output_type": "stream",
          "name": "stderr",
          "text": [
            "\n",
            "470it [00:12, 36.68it/s]\n",
            "118it [00:01, 89.56it/s]"
          ]
        },
        {
          "output_type": "stream",
          "name": "stdout",
          "text": [
            "Train Loss: 0.1703\n",
            "Val Loss: 0.1906\n",
            "Epoch 61 of 100\n"
          ]
        },
        {
          "output_type": "stream",
          "name": "stderr",
          "text": [
            "\n",
            "470it [00:12, 36.69it/s]\n",
            "118it [00:01, 88.69it/s]"
          ]
        },
        {
          "output_type": "stream",
          "name": "stdout",
          "text": [
            "Train Loss: 0.1693\n",
            "Val Loss: 0.1920\n",
            "Epoch 62 of 100\n"
          ]
        },
        {
          "output_type": "stream",
          "name": "stderr",
          "text": [
            "\n",
            "470it [00:12, 36.96it/s]\n",
            "118it [00:01, 91.23it/s]"
          ]
        },
        {
          "output_type": "stream",
          "name": "stdout",
          "text": [
            "Train Loss: 0.1699\n",
            "Val Loss: 0.1915\n",
            "Epoch 63 of 100\n"
          ]
        },
        {
          "output_type": "stream",
          "name": "stderr",
          "text": [
            "\n",
            "470it [00:12, 37.47it/s]\n",
            "118it [00:01, 90.69it/s]"
          ]
        },
        {
          "output_type": "stream",
          "name": "stdout",
          "text": [
            "Train Loss: 0.1685\n",
            "Val Loss: 0.1912\n",
            "Epoch 64 of 100\n"
          ]
        },
        {
          "output_type": "stream",
          "name": "stderr",
          "text": [
            "\n",
            "470it [00:12, 36.91it/s]\n",
            "118it [00:01, 91.02it/s]"
          ]
        },
        {
          "output_type": "stream",
          "name": "stdout",
          "text": [
            "Train Loss: 0.1685\n",
            "Val Loss: 0.1936\n",
            "Epoch 65 of 100\n"
          ]
        },
        {
          "output_type": "stream",
          "name": "stderr",
          "text": [
            "\n",
            "470it [00:12, 36.99it/s]\n",
            "118it [00:01, 90.80it/s]"
          ]
        },
        {
          "output_type": "stream",
          "name": "stdout",
          "text": [
            "Train Loss: 0.1689\n",
            "Val Loss: 0.1897\n",
            "Epoch 66 of 100\n"
          ]
        },
        {
          "output_type": "stream",
          "name": "stderr",
          "text": [
            "\n",
            "470it [00:12, 37.12it/s]\n",
            "118it [00:01, 92.76it/s] \n"
          ]
        },
        {
          "output_type": "stream",
          "name": "stdout",
          "text": [
            "Train Loss: 0.1682\n",
            "Val Loss: 0.1942\n",
            "Epoch 67 of 100\n"
          ]
        },
        {
          "output_type": "stream",
          "name": "stderr",
          "text": [
            "470it [00:12, 37.10it/s]\n",
            "118it [00:01, 91.52it/s]"
          ]
        },
        {
          "output_type": "stream",
          "name": "stdout",
          "text": [
            "Train Loss: 0.1676\n",
            "Val Loss: 0.1896\n",
            "Epoch 68 of 100\n"
          ]
        },
        {
          "output_type": "stream",
          "name": "stderr",
          "text": [
            "\n",
            "470it [00:12, 37.08it/s]\n",
            "118it [00:01, 91.63it/s] "
          ]
        },
        {
          "output_type": "stream",
          "name": "stdout",
          "text": [
            "Train Loss: 0.1668\n",
            "Val Loss: 0.1967\n",
            "Epoch 69 of 100\n"
          ]
        },
        {
          "output_type": "stream",
          "name": "stderr",
          "text": [
            "\n",
            "470it [00:12, 37.16it/s]\n",
            "118it [00:01, 91.09it/s]"
          ]
        },
        {
          "output_type": "stream",
          "name": "stdout",
          "text": [
            "Train Loss: 0.1674\n",
            "Val Loss: 0.1911\n",
            "Epoch 70 of 100\n"
          ]
        },
        {
          "output_type": "stream",
          "name": "stderr",
          "text": [
            "\n",
            "470it [00:12, 36.99it/s]\n",
            "118it [00:01, 90.83it/s]"
          ]
        },
        {
          "output_type": "stream",
          "name": "stdout",
          "text": [
            "Train Loss: 0.1663\n",
            "Val Loss: 0.1906\n",
            "Epoch 71 of 100\n"
          ]
        },
        {
          "output_type": "stream",
          "name": "stderr",
          "text": [
            "\n",
            "470it [00:12, 37.04it/s]\n",
            "118it [00:01, 79.74it/s]"
          ]
        },
        {
          "output_type": "stream",
          "name": "stdout",
          "text": [
            "Train Loss: 0.1665\n",
            "Val Loss: 0.1908\n",
            "Epoch 72 of 100\n"
          ]
        },
        {
          "output_type": "stream",
          "name": "stderr",
          "text": [
            "\n",
            "470it [00:13, 34.75it/s]\n",
            "118it [00:01, 89.66it/s]"
          ]
        },
        {
          "output_type": "stream",
          "name": "stdout",
          "text": [
            "Train Loss: 0.1662\n",
            "Val Loss: 0.1916\n",
            "Epoch 73 of 100\n"
          ]
        },
        {
          "output_type": "stream",
          "name": "stderr",
          "text": [
            "\n",
            "470it [00:12, 36.75it/s]\n",
            "118it [00:01, 89.69it/s]"
          ]
        },
        {
          "output_type": "stream",
          "name": "stdout",
          "text": [
            "Train Loss: 0.1657\n",
            "Val Loss: 0.1917\n",
            "Epoch 74 of 100\n"
          ]
        },
        {
          "output_type": "stream",
          "name": "stderr",
          "text": [
            "\n",
            "470it [00:12, 36.95it/s]\n",
            "118it [00:01, 90.79it/s]"
          ]
        },
        {
          "output_type": "stream",
          "name": "stdout",
          "text": [
            "Train Loss: 0.1659\n",
            "Val Loss: 0.1918\n",
            "Epoch 75 of 100\n"
          ]
        },
        {
          "output_type": "stream",
          "name": "stderr",
          "text": [
            "\n",
            "470it [00:12, 36.49it/s]\n",
            "118it [00:01, 88.94it/s]"
          ]
        },
        {
          "output_type": "stream",
          "name": "stdout",
          "text": [
            "Train Loss: 0.1648\n",
            "Val Loss: 0.1907\n",
            "Epoch 76 of 100\n"
          ]
        },
        {
          "output_type": "stream",
          "name": "stderr",
          "text": [
            "\n",
            "470it [00:12, 36.50it/s]\n",
            "118it [00:01, 89.80it/s]"
          ]
        },
        {
          "output_type": "stream",
          "name": "stdout",
          "text": [
            "Train Loss: 0.1644\n",
            "Val Loss: 0.1916\n",
            "Epoch 77 of 100\n"
          ]
        },
        {
          "output_type": "stream",
          "name": "stderr",
          "text": [
            "\n",
            "470it [00:12, 36.59it/s]\n",
            "118it [00:01, 90.42it/s]"
          ]
        },
        {
          "output_type": "stream",
          "name": "stdout",
          "text": [
            "Train Loss: 0.1644\n",
            "Val Loss: 0.1923\n",
            "Epoch 78 of 100\n"
          ]
        },
        {
          "output_type": "stream",
          "name": "stderr",
          "text": [
            "\n",
            "470it [00:12, 36.42it/s]\n",
            "118it [00:01, 89.53it/s]"
          ]
        },
        {
          "output_type": "stream",
          "name": "stdout",
          "text": [
            "Train Loss: 0.1645\n",
            "Val Loss: 0.1906\n",
            "Epoch 79 of 100\n"
          ]
        },
        {
          "output_type": "stream",
          "name": "stderr",
          "text": [
            "\n",
            "470it [00:12, 36.69it/s]\n",
            "118it [00:01, 90.97it/s]"
          ]
        },
        {
          "output_type": "stream",
          "name": "stdout",
          "text": [
            "Train Loss: 0.1634\n",
            "Val Loss: 0.1912\n",
            "Epoch 80 of 100\n"
          ]
        },
        {
          "output_type": "stream",
          "name": "stderr",
          "text": [
            "\n",
            "470it [00:12, 36.71it/s]\n",
            "118it [00:01, 88.92it/s]"
          ]
        },
        {
          "output_type": "stream",
          "name": "stdout",
          "text": [
            "Train Loss: 0.1637\n",
            "Val Loss: 0.1996\n",
            "Epoch 81 of 100\n"
          ]
        },
        {
          "output_type": "stream",
          "name": "stderr",
          "text": [
            "\n",
            "470it [00:12, 36.43it/s]\n",
            "118it [00:01, 88.73it/s]"
          ]
        },
        {
          "output_type": "stream",
          "name": "stdout",
          "text": [
            "Train Loss: 0.1649\n",
            "Val Loss: 0.1941\n",
            "Epoch 82 of 100\n"
          ]
        },
        {
          "output_type": "stream",
          "name": "stderr",
          "text": [
            "\n",
            "470it [00:12, 36.69it/s]\n",
            "118it [00:01, 91.17it/s]"
          ]
        },
        {
          "output_type": "stream",
          "name": "stdout",
          "text": [
            "Train Loss: 0.1635\n",
            "Val Loss: 0.1903\n",
            "Epoch 83 of 100\n"
          ]
        },
        {
          "output_type": "stream",
          "name": "stderr",
          "text": [
            "\n",
            "470it [00:12, 36.73it/s]\n",
            "118it [00:01, 89.85it/s]"
          ]
        },
        {
          "output_type": "stream",
          "name": "stdout",
          "text": [
            "Train Loss: 0.1622\n",
            "Val Loss: 0.1919\n",
            "Epoch 84 of 100\n"
          ]
        },
        {
          "output_type": "stream",
          "name": "stderr",
          "text": [
            "\n",
            "470it [00:12, 36.62it/s]\n",
            "118it [00:01, 72.26it/s]"
          ]
        },
        {
          "output_type": "stream",
          "name": "stdout",
          "text": [
            "Train Loss: 0.1625\n",
            "Val Loss: 0.1905\n",
            "Epoch 85 of 100\n"
          ]
        },
        {
          "output_type": "stream",
          "name": "stderr",
          "text": [
            "\n",
            "470it [00:13, 34.43it/s]\n",
            "118it [00:01, 89.35it/s]"
          ]
        },
        {
          "output_type": "stream",
          "name": "stdout",
          "text": [
            "Train Loss: 0.1618\n",
            "Val Loss: 0.1894\n",
            "Epoch 86 of 100\n"
          ]
        },
        {
          "output_type": "stream",
          "name": "stderr",
          "text": [
            "\n",
            "470it [00:12, 36.56it/s]\n",
            "118it [00:01, 90.69it/s]"
          ]
        },
        {
          "output_type": "stream",
          "name": "stdout",
          "text": [
            "Train Loss: 0.1617\n",
            "Val Loss: 0.1917\n",
            "Epoch 87 of 100\n"
          ]
        },
        {
          "output_type": "stream",
          "name": "stderr",
          "text": [
            "\n",
            "470it [00:12, 36.52it/s]\n",
            "118it [00:01, 89.85it/s]"
          ]
        },
        {
          "output_type": "stream",
          "name": "stdout",
          "text": [
            "Train Loss: 0.1624\n",
            "Val Loss: 0.1911\n",
            "Epoch 88 of 100\n"
          ]
        },
        {
          "output_type": "stream",
          "name": "stderr",
          "text": [
            "\n",
            "470it [00:12, 36.53it/s]\n",
            "118it [00:01, 90.62it/s]"
          ]
        },
        {
          "output_type": "stream",
          "name": "stdout",
          "text": [
            "Train Loss: 0.1611\n",
            "Val Loss: 0.1917\n",
            "Epoch 89 of 100\n"
          ]
        },
        {
          "output_type": "stream",
          "name": "stderr",
          "text": [
            "\n",
            "470it [00:12, 36.52it/s]\n",
            "118it [00:01, 89.50it/s]"
          ]
        },
        {
          "output_type": "stream",
          "name": "stdout",
          "text": [
            "Train Loss: 0.1609\n",
            "Val Loss: 0.1904\n",
            "Epoch 90 of 100\n"
          ]
        },
        {
          "output_type": "stream",
          "name": "stderr",
          "text": [
            "\n",
            "470it [00:12, 36.68it/s]\n",
            "118it [00:01, 89.68it/s]"
          ]
        },
        {
          "output_type": "stream",
          "name": "stdout",
          "text": [
            "Train Loss: 0.1600\n",
            "Val Loss: 0.1906\n",
            "Epoch 91 of 100\n"
          ]
        },
        {
          "output_type": "stream",
          "name": "stderr",
          "text": [
            "\n",
            "470it [00:12, 36.55it/s]\n",
            "118it [00:01, 89.03it/s]"
          ]
        },
        {
          "output_type": "stream",
          "name": "stdout",
          "text": [
            "Train Loss: 0.1610\n",
            "Val Loss: 0.1912\n",
            "Epoch 92 of 100\n"
          ]
        },
        {
          "output_type": "stream",
          "name": "stderr",
          "text": [
            "\n",
            "470it [00:12, 36.73it/s]\n",
            "118it [00:01, 90.01it/s]"
          ]
        },
        {
          "output_type": "stream",
          "name": "stdout",
          "text": [
            "Train Loss: 0.1597\n",
            "Val Loss: 0.1908\n",
            "Epoch 93 of 100\n"
          ]
        },
        {
          "output_type": "stream",
          "name": "stderr",
          "text": [
            "\n",
            "470it [00:12, 36.98it/s]\n",
            "118it [00:01, 90.78it/s]"
          ]
        },
        {
          "output_type": "stream",
          "name": "stdout",
          "text": [
            "Train Loss: 0.1606\n",
            "Val Loss: 0.1903\n",
            "Epoch 94 of 100\n"
          ]
        },
        {
          "output_type": "stream",
          "name": "stderr",
          "text": [
            "\n",
            "470it [00:12, 36.84it/s]\n",
            "118it [00:01, 90.73it/s]"
          ]
        },
        {
          "output_type": "stream",
          "name": "stdout",
          "text": [
            "Train Loss: 0.1596\n",
            "Val Loss: 0.1913\n",
            "Epoch 95 of 100\n"
          ]
        },
        {
          "output_type": "stream",
          "name": "stderr",
          "text": [
            "\n",
            "470it [00:12, 37.07it/s]\n",
            "118it [00:01, 91.18it/s] "
          ]
        },
        {
          "output_type": "stream",
          "name": "stdout",
          "text": [
            "Train Loss: 0.1592\n",
            "Val Loss: 0.1903\n",
            "Epoch 96 of 100\n"
          ]
        },
        {
          "output_type": "stream",
          "name": "stderr",
          "text": [
            "\n",
            "470it [00:12, 37.16it/s]\n",
            "118it [00:01, 90.56it/s]"
          ]
        },
        {
          "output_type": "stream",
          "name": "stdout",
          "text": [
            "Train Loss: 0.1590\n",
            "Val Loss: 0.1953\n",
            "Epoch 97 of 100\n"
          ]
        },
        {
          "output_type": "stream",
          "name": "stderr",
          "text": [
            "\n",
            "470it [00:13, 34.35it/s]\n",
            "118it [00:01, 89.96it/s]"
          ]
        },
        {
          "output_type": "stream",
          "name": "stdout",
          "text": [
            "Train Loss: 0.1599\n",
            "Val Loss: 0.1922\n",
            "Epoch 98 of 100\n"
          ]
        },
        {
          "output_type": "stream",
          "name": "stderr",
          "text": [
            "\n",
            "470it [00:12, 36.88it/s]\n",
            "118it [00:01, 90.17it/s]"
          ]
        },
        {
          "output_type": "stream",
          "name": "stdout",
          "text": [
            "Train Loss: 0.1589\n",
            "Val Loss: 0.1921\n",
            "Epoch 99 of 100\n"
          ]
        },
        {
          "output_type": "stream",
          "name": "stderr",
          "text": [
            "\n",
            "470it [00:12, 37.04it/s]\n",
            "118it [00:01, 90.00it/s]"
          ]
        },
        {
          "output_type": "stream",
          "name": "stdout",
          "text": [
            "Train Loss: 0.1582\n",
            "Val Loss: 0.1913\n",
            "Epoch 100 of 100\n"
          ]
        },
        {
          "output_type": "stream",
          "name": "stderr",
          "text": [
            "\n",
            "470it [00:12, 37.04it/s]\n",
            "118it [00:01, 91.69it/s]\n"
          ]
        },
        {
          "output_type": "stream",
          "name": "stdout",
          "text": [
            "Train Loss: 0.1581\n",
            "Val Loss: 0.1920\n"
          ]
        }
      ],
      "source": [
        "train_loss = []\n",
        "valid_loss = []\n",
        "for epoch in range(epochs):\n",
        "    print(f\"Epoch {epoch+1} of {epochs}\")\n",
        "    if epoch<30:\n",
        "      beta=0\n",
        "    else:\n",
        "      beta=1e-3\n",
        "    train_epoch_loss = train(trainloader, trainset, beta)\n",
        "    valid_epoch_loss, recon_images = validate(valloader, valset, beta)\n",
        "    train_loss.append(train_epoch_loss)\n",
        "    valid_loss.append(valid_epoch_loss)\n",
        "    image_grid = make_grid(recon_images.detach().cpu())\n",
        "    grid_images.append(image_grid)\n",
        "    print(f\"Train Loss: {train_epoch_loss:.4f}\")\n",
        "    print(f\"Val Loss: {valid_epoch_loss:.4f}\")"
      ]
    },
    {
      "cell_type": "code",
      "execution_count": 47,
      "metadata": {
        "colab": {
          "base_uri": "https://localhost:8080/",
          "height": 283
        },
        "id": "NoTAntQDsxX1",
        "outputId": "37c7147b-8fee-4328-cb98-4c9c0aebcd28"
      },
      "outputs": [
        {
          "output_type": "execute_result",
          "data": {
            "text/plain": [
              "[<matplotlib.lines.Line2D at 0x7f9a30fa6b90>]"
            ]
          },
          "metadata": {},
          "execution_count": 47
        },
        {
          "output_type": "display_data",
          "data": {
            "text/plain": [
              "<Figure size 432x288 with 1 Axes>"
            ],
            "image/png": "[encoded data removed]"
          },
          "metadata": {}
        }
      ],
      "source": [
        "fig, ax = plt.subplots()\n",
        "ax.plot(train_loss)\n",
        "ax.plot(valid_loss)"
      ]
    },
    {
      "cell_type": "code",
      "source": [
        "PATH = '/content/drive/MyDrive/mech_MNIST'\n",
        "torch.save(model, PATH)"
      ],
      "metadata": {
        "id": "XAZUNJhmJ1TK"
      },
      "execution_count": 36,
      "outputs": []
    },
    {
      "cell_type": "code",
      "source": [
        "# save to disk\n",
        "import os\n",
        "model_scripted = torch.jit.script(model.cpu())\n",
        "model_scripted.save(os.path.join('/content/drive/MyDrive/', f'mech_MNIST-scripted.pt'))"
      ],
      "metadata": {
        "id": "xSTxdmOcX78g"
      },
      "execution_count": 38,
      "outputs": []
    },
    {
      "cell_type": "code",
      "source": [
        "torch.save(model.state_dict(), PATH)"
      ],
      "metadata": {
        "id": "r-MlUyUfYOZO"
      },
      "execution_count": 39,
      "outputs": []
    },
    {
      "cell_type": "code",
      "source": [],
      "metadata": {
        "id": "Lzrkum9WYhYu"
      },
      "execution_count": null,
      "outputs": []
    }
  ],
  "metadata": {
    "accelerator": "GPU",
    "colab": {
      "collapsed_sections": [],
      "provenance": [],
      "authorship_tag": "ABX9TyMt+hcAummrB3liF963th64",
      "include_colab_link": true
    },
    "gpuClass": "standard",
    "kernelspec": {
      "display_name": "Python 3",
      "name": "python3"
    },
    "language_info": {
      "name": "python"
    }
  },
  "nbformat": 4,
  "nbformat_minor": 0
}